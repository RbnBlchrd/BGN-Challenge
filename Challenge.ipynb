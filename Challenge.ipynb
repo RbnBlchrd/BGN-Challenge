{
 "cells": [
  {
   "cell_type": "markdown",
   "metadata": {},
   "source": [
    "## Notes"
   ]
  },
  {
   "cell_type": "markdown",
   "metadata": {},
   "source": [
    "In order to make the code work, this notebook should be inside the same folder as the images.\n",
    "A sub-folder named \"Foreground\" should also exist in the same folder as the notebook and the images."
   ]
  },
  {
   "cell_type": "markdown",
   "metadata": {},
   "source": [
    "## Imports"
   ]
  },
  {
   "cell_type": "code",
   "execution_count": 1,
   "metadata": {},
   "outputs": [],
   "source": [
    "import cv2\n",
    "import numpy as np\n",
    "import matplotlib.pyplot as plt\n",
    "from scipy.stats import itemfreq"
   ]
  },
  {
   "cell_type": "markdown",
   "metadata": {},
   "source": [
    "## Background substraction"
   ]
  },
  {
   "cell_type": "markdown",
   "metadata": {},
   "source": [
    "My first idea was to extract the foreground, which is the moto. To do so, I designed the fg_extraction function, that uses the createBackgroundSubstractorMOG2 function of OpenCV. The results were noisy, so I created the post_processing function, subsequently applying a median filer, a threshold, and the erode and dilate function, to have the foreground mask with less noise."
   ]
  },
  {
   "cell_type": "code",
   "execution_count": 2,
   "metadata": {},
   "outputs": [],
   "source": [
    "def post_processing(img):\n",
    "    median = cv2.medianBlur(img,5)\n",
    "    thresh = cv2.threshold(median, 200, 255, cv2.THRESH_BINARY)[1]   \n",
    "    thresh = cv2.erode(thresh, None, iterations=2)\n",
    "    post = cv2.dilate(thresh, None, iterations=4)\n",
    "    return post"
   ]
  },
  {
   "cell_type": "code",
   "execution_count": 3,
   "metadata": {},
   "outputs": [],
   "source": [
    "def fg_extraction():\n",
    "    \"\"\"\n",
    "    This function extracts the foreground from the background and delivers black and white images, the foreground being in white.\n",
    "    \"\"\"\n",
    "    \n",
    "    fgbg = cv2.createBackgroundSubtractorMOG2()\n",
    "    for k in range(2):\n",
    "        for i in range(30,192):\n",
    "            if i<100:\n",
    "                img_name=\"00\"+str(i)\n",
    "            else:\n",
    "                img_name=\"0\"+str(i)\n",
    "            img = cv2.imread(img_name+'.jpg')\n",
    "            fgmask = fgbg.apply(img)\n",
    "            post=post_processing(fgmask)\n",
    "            cv2.imwrite('Foreground\\\\fg_'+img_name+'.jpg',fgmask)\n",
    "            cv2.imwrite('Foreground\\\\fg_post_'+img_name+'.jpg',post)"
   ]
  },
  {
   "cell_type": "markdown",
   "metadata": {},
   "source": [
    "Once the foreground extracted, I need to count the big blobs inside the mask. To do so, we look for the connected components of the mask. If the size of the blob is big enough, we count the blob."
   ]
  },
  {
   "cell_type": "code",
   "execution_count": 4,
   "metadata": {},
   "outputs": [],
   "source": [
    "def blob_count(img,threshold=50,connectivity=4):\n",
    "    img = cv2.imread(img,0) #0 is needed to open the image in grayscale.\n",
    "    img[0:300,1400:]=0 #remove top_right corner\n",
    "    output = cv2.connectedComponentsWithStats(img, connectivity, cv2.CV_32S)\n",
    "    num_labels = output[0]\n",
    "    labels = output[1]\n",
    "    stats = output[2]\n",
    "    centroids = output[3]\n",
    "    count=0\n",
    "    blobs=[]\n",
    "    for label in range(1,num_labels):\n",
    "        width = stats[label, cv2.CC_STAT_WIDTH]\n",
    "        height = stats[label, cv2.CC_STAT_HEIGHT]\n",
    "        x = stats[label, cv2.CC_STAT_LEFT]\n",
    "        y = stats[label, cv2.CC_STAT_TOP]\n",
    "        if width>=threshold and height>=threshold: #can instead use the number of white pixels.\n",
    "            #roi = img[y:int(y+height), x:int(x+width)]\n",
    "            #cv2.imwrite('blob_'+str(label)+'.jpg', roi)\n",
    "            count+=1\n",
    "            blobs.append([x, y, width, height])\n",
    "    return count, blobs"
   ]
  },
  {
   "cell_type": "markdown",
   "metadata": {},
   "source": [
    "The following function delivers the output where are printed how many motos are on each picture."
   ]
  },
  {
   "cell_type": "code",
   "execution_count": 5,
   "metadata": {},
   "outputs": [],
   "source": [
    "def is_there_motos():\n",
    "    for i in range(30,192):\n",
    "        if i<100:\n",
    "            img_name=\"00\"+str(i)\n",
    "        else:\n",
    "            img_name=\"0\"+str(i)\n",
    "        count, blobs = blob_count('Foreground\\\\fg_post_'+img_name+'.jpg')\n",
    "        if count==0:\n",
    "            print('There isn\\'t any moto in the picture {}.'.format(img_name))\n",
    "        elif count==1:\n",
    "            print('There is one moto in the picture {}.'.format(img_name))\n",
    "        else:\n",
    "            print('There are {} motos in the picture {}.'.format(count, img_name))\n",
    "        if count>0:\n",
    "            img = cv2.imread(img_name+'.jpg')\n",
    "            fg= cv2.imread('Foreground\\\\fg_post_'+img_name+'.jpg',0)\n",
    "            fg_color=cv2.bitwise_and(img,img,mask = fg)\n",
    "            for blob in blobs:\n",
    "                x,y,width,height=blob\n",
    "                img_blob=fg_color[y:int(y+height), x:int(x+width)]\n",
    "                #most_present_color=find_color(img)\n",
    "    "
   ]
  },
  {
   "cell_type": "markdown",
   "metadata": {},
   "source": [
    "## Execution"
   ]
  },
  {
   "cell_type": "code",
   "execution_count": 7,
   "metadata": {},
   "outputs": [],
   "source": [
    "fg_extraction()"
   ]
  },
  {
   "cell_type": "code",
   "execution_count": 8,
   "metadata": {},
   "outputs": [
    {
     "name": "stdout",
     "output_type": "stream",
     "text": [
      "There isn't any moto in the picture 0030.\n",
      "There isn't any moto in the picture 0031.\n",
      "There isn't any moto in the picture 0032.\n",
      "There isn't any moto in the picture 0033.\n",
      "There isn't any moto in the picture 0034.\n",
      "There isn't any moto in the picture 0035.\n",
      "There isn't any moto in the picture 0036.\n",
      "There is one moto in the picture 0037.\n",
      "There is one moto in the picture 0038.\n",
      "There is one moto in the picture 0039.\n",
      "There is one moto in the picture 0040.\n",
      "There is one moto in the picture 0041.\n",
      "There is one moto in the picture 0042.\n",
      "There is one moto in the picture 0043.\n",
      "There is one moto in the picture 0044.\n",
      "There is one moto in the picture 0045.\n",
      "There is one moto in the picture 0046.\n",
      "There is one moto in the picture 0047.\n",
      "There is one moto in the picture 0048.\n",
      "There is one moto in the picture 0049.\n",
      "There is one moto in the picture 0050.\n",
      "There is one moto in the picture 0051.\n",
      "There is one moto in the picture 0052.\n",
      "There is one moto in the picture 0053.\n",
      "There is one moto in the picture 0054.\n",
      "There is one moto in the picture 0055.\n",
      "There is one moto in the picture 0056.\n",
      "There is one moto in the picture 0057.\n",
      "There is one moto in the picture 0058.\n",
      "There is one moto in the picture 0059.\n",
      "There is one moto in the picture 0060.\n",
      "There is one moto in the picture 0061.\n",
      "There is one moto in the picture 0062.\n",
      "There is one moto in the picture 0063.\n",
      "There is one moto in the picture 0064.\n",
      "There is one moto in the picture 0065.\n",
      "There is one moto in the picture 0066.\n",
      "There is one moto in the picture 0067.\n",
      "There is one moto in the picture 0068.\n",
      "There is one moto in the picture 0069.\n",
      "There is one moto in the picture 0070.\n",
      "There is one moto in the picture 0071.\n",
      "There is one moto in the picture 0072.\n",
      "There is one moto in the picture 0073.\n",
      "There is one moto in the picture 0074.\n",
      "There is one moto in the picture 0075.\n",
      "There is one moto in the picture 0076.\n",
      "There is one moto in the picture 0077.\n",
      "There is one moto in the picture 0078.\n",
      "There is one moto in the picture 0079.\n",
      "There is one moto in the picture 0080.\n",
      "There is one moto in the picture 0081.\n",
      "There is one moto in the picture 0082.\n",
      "There is one moto in the picture 0083.\n",
      "There is one moto in the picture 0084.\n",
      "There is one moto in the picture 0085.\n",
      "There is one moto in the picture 0086.\n",
      "There is one moto in the picture 0087.\n",
      "There is one moto in the picture 0088.\n",
      "There is one moto in the picture 0089.\n",
      "There is one moto in the picture 0090.\n",
      "There is one moto in the picture 0091.\n",
      "There is one moto in the picture 0092.\n",
      "There is one moto in the picture 0093.\n",
      "There is one moto in the picture 0094.\n",
      "There is one moto in the picture 0095.\n",
      "There is one moto in the picture 0096.\n",
      "There is one moto in the picture 0097.\n",
      "There is one moto in the picture 0098.\n",
      "There is one moto in the picture 0099.\n",
      "There is one moto in the picture 0100.\n",
      "There is one moto in the picture 0101.\n",
      "There is one moto in the picture 0102.\n",
      "There is one moto in the picture 0103.\n",
      "There is one moto in the picture 0104.\n",
      "There is one moto in the picture 0105.\n",
      "There is one moto in the picture 0106.\n",
      "There is one moto in the picture 0107.\n",
      "There is one moto in the picture 0108.\n",
      "There is one moto in the picture 0109.\n",
      "There is one moto in the picture 0110.\n",
      "There is one moto in the picture 0111.\n",
      "There is one moto in the picture 0112.\n",
      "There is one moto in the picture 0113.\n",
      "There are 2 motos in the picture 0114.\n",
      "There are 2 motos in the picture 0115.\n",
      "There are 2 motos in the picture 0116.\n",
      "There is one moto in the picture 0117.\n",
      "There is one moto in the picture 0118.\n",
      "There is one moto in the picture 0119.\n",
      "There is one moto in the picture 0120.\n",
      "There is one moto in the picture 0121.\n",
      "There is one moto in the picture 0122.\n",
      "There is one moto in the picture 0123.\n",
      "There is one moto in the picture 0124.\n",
      "There is one moto in the picture 0125.\n",
      "There is one moto in the picture 0126.\n",
      "There is one moto in the picture 0127.\n",
      "There is one moto in the picture 0128.\n",
      "There is one moto in the picture 0129.\n",
      "There is one moto in the picture 0130.\n",
      "There is one moto in the picture 0131.\n",
      "There is one moto in the picture 0132.\n",
      "There is one moto in the picture 0133.\n",
      "There is one moto in the picture 0134.\n",
      "There is one moto in the picture 0135.\n",
      "There is one moto in the picture 0136.\n",
      "There is one moto in the picture 0137.\n",
      "There is one moto in the picture 0138.\n",
      "There is one moto in the picture 0139.\n",
      "There is one moto in the picture 0140.\n",
      "There is one moto in the picture 0141.\n",
      "There is one moto in the picture 0142.\n",
      "There is one moto in the picture 0143.\n",
      "There is one moto in the picture 0144.\n",
      "There is one moto in the picture 0145.\n",
      "There is one moto in the picture 0146.\n",
      "There is one moto in the picture 0147.\n",
      "There is one moto in the picture 0148.\n",
      "There is one moto in the picture 0149.\n",
      "There is one moto in the picture 0150.\n",
      "There is one moto in the picture 0151.\n",
      "There is one moto in the picture 0152.\n",
      "There is one moto in the picture 0153.\n",
      "There is one moto in the picture 0154.\n",
      "There is one moto in the picture 0155.\n",
      "There is one moto in the picture 0156.\n",
      "There is one moto in the picture 0157.\n",
      "There is one moto in the picture 0158.\n",
      "There is one moto in the picture 0159.\n",
      "There is one moto in the picture 0160.\n",
      "There is one moto in the picture 0161.\n",
      "There is one moto in the picture 0162.\n",
      "There is one moto in the picture 0163.\n",
      "There is one moto in the picture 0164.\n",
      "There is one moto in the picture 0165.\n",
      "There is one moto in the picture 0166.\n",
      "There is one moto in the picture 0167.\n",
      "There is one moto in the picture 0168.\n",
      "There is one moto in the picture 0169.\n",
      "There is one moto in the picture 0170.\n",
      "There is one moto in the picture 0171.\n",
      "There is one moto in the picture 0172.\n",
      "There is one moto in the picture 0173.\n",
      "There is one moto in the picture 0174.\n",
      "There is one moto in the picture 0175.\n",
      "There is one moto in the picture 0176.\n",
      "There is one moto in the picture 0177.\n",
      "There is one moto in the picture 0178.\n",
      "There is one moto in the picture 0179.\n",
      "There is one moto in the picture 0180.\n",
      "There is one moto in the picture 0181.\n",
      "There is one moto in the picture 0182.\n",
      "There is one moto in the picture 0183.\n",
      "There is one moto in the picture 0184.\n",
      "There is one moto in the picture 0185.\n",
      "There is one moto in the picture 0186.\n",
      "There is one moto in the picture 0187.\n",
      "There is one moto in the picture 0188.\n",
      "There is one moto in the picture 0189.\n",
      "There is one moto in the picture 0190.\n",
      "There is one moto in the picture 0191.\n"
     ]
    }
   ],
   "source": [
    "is_there_motos()"
   ]
  },
  {
   "cell_type": "markdown",
   "metadata": {},
   "source": [
    "## Test area"
   ]
  },
  {
   "cell_type": "code",
   "execution_count": 38,
   "metadata": {},
   "outputs": [
    {
     "name": "stdout",
     "output_type": "stream",
     "text": [
      "1080\n",
      "1920\n"
     ]
    },
    {
     "data": {
      "text/plain": [
       "True"
      ]
     },
     "execution_count": 38,
     "metadata": {},
     "output_type": "execute_result"
    }
   ],
   "source": [
    "img_name='0114'\n",
    "img = cv2.imread(img_name+'.jpg')\n",
    "print(len(img))\n",
    "print(len(img[0]))\n",
    "tr_corner=img[0:300,1400:]\n",
    "img[0:300,1400:]=0\n",
    "cv2.imwrite('test.jpg',img)\n",
    "    \n",
    "    "
   ]
  },
  {
   "cell_type": "code",
   "execution_count": 8,
   "metadata": {
    "scrolled": true
   },
   "outputs": [
    {
     "data": {
      "text/plain": [
       "True"
      ]
     },
     "execution_count": 8,
     "metadata": {},
     "output_type": "execute_result"
    }
   ],
   "source": [
    "img_name='0114'\n",
    "img = cv2.imread(img_name+'.jpg')\n",
    "fg= cv2.imread('Foreground\\\\fg_post_'+img_name+'.jpg',0)\n",
    "cv2.imwrite('test.jpg', cv2.bitwise_and(img,img,mask = fg))"
   ]
  },
  {
   "cell_type": "code",
   "execution_count": null,
   "metadata": {},
   "outputs": [],
   "source": []
  }
 ],
 "metadata": {
  "kernelspec": {
   "display_name": "Python 3",
   "language": "python",
   "name": "python3"
  },
  "language_info": {
   "codemirror_mode": {
    "name": "ipython",
    "version": 3
   },
   "file_extension": ".py",
   "mimetype": "text/x-python",
   "name": "python",
   "nbconvert_exporter": "python",
   "pygments_lexer": "ipython3",
   "version": "3.6.5"
  }
 },
 "nbformat": 4,
 "nbformat_minor": 2
}
