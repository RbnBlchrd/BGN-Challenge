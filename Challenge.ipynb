{
 "cells": [
  {
   "cell_type": "markdown",
   "metadata": {},
   "source": [
    "## Notes"
   ]
  },
  {
   "cell_type": "markdown",
   "metadata": {},
   "source": [
    "In order to make the code work, this notebook should be inside the same folder as the images.\n",
    "A sub-folder named \"Foreground\" should also exist in the same folder as the notebook and the images."
   ]
  },
  {
   "cell_type": "markdown",
   "metadata": {},
   "source": [
    "## Imports"
   ]
  },
  {
   "cell_type": "code",
   "execution_count": 27,
   "metadata": {},
   "outputs": [],
   "source": [
    "import cv2\n",
    "import numpy as np\n",
    "import matplotlib.pyplot as plt\n",
    "from scipy.stats import itemfreq\n",
    "from sklearn.cluster import KMeans"
   ]
  },
  {
   "cell_type": "markdown",
   "metadata": {},
   "source": [
    "## Background substraction"
   ]
  },
  {
   "cell_type": "markdown",
   "metadata": {},
   "source": [
    "My first idea was to extract the foreground, which is the moto. To do so, I designed the fg_extraction function, that uses the createBackgroundSubstractorMOG2 function of OpenCV. The results were noisy, so I created the post_processing function, subsequently applying a median filer, a threshold, and the erode and dilate function, to have the foreground mask with less noise."
   ]
  },
  {
   "cell_type": "code",
   "execution_count": 23,
   "metadata": {},
   "outputs": [],
   "source": [
    "def post_processing(img):\n",
    "    median = cv2.medianBlur(img,5)\n",
    "    thresh = cv2.threshold(median, 200, 255, cv2.THRESH_BINARY)[1]   \n",
    "    thresh = cv2.erode(thresh, None, iterations=2)\n",
    "    post = cv2.dilate(thresh, None, iterations=4)\n",
    "    return post"
   ]
  },
  {
   "cell_type": "code",
   "execution_count": 22,
   "metadata": {},
   "outputs": [],
   "source": [
    "def fg_extraction():\n",
    "    \"\"\"\n",
    "    This function extracts the foreground from the background and delivers black and white images, the foreground being in white.\n",
    "    \"\"\"\n",
    "    \n",
    "    fgbg = cv2.createBackgroundSubtractorMOG2()\n",
    "    for k in range(2):\n",
    "        for i in range(30,192):\n",
    "            if i<100:\n",
    "                img_name=\"00\"+str(i)\n",
    "            else:\n",
    "                img_name=\"0\"+str(i)\n",
    "            img = cv2.imread(img_name+'.jpg')\n",
    "            fgmask = fgbg.apply(img)\n",
    "            post=post_processing(fgmask)\n",
    "            cv2.imwrite('Foreground\\\\fg_'+img_name+'.jpg',fgmask)\n",
    "            cv2.imwrite('Foreground\\\\fg_post_'+img_name+'.jpg',post)"
   ]
  },
  {
   "cell_type": "markdown",
   "metadata": {},
   "source": [
    "Once the foreground extracted, I need to count the big blobs inside the mask. To do so, we look for the connected components of the mask. If the size of the blob is big enough, we count the blob."
   ]
  },
  {
   "cell_type": "code",
   "execution_count": 21,
   "metadata": {},
   "outputs": [],
   "source": [
    "def blob_count(img,threshold=50,connectivity=4):\n",
    "    img = cv2.imread(img,0) #0 is needed to open the image in grayscale.\n",
    "    img[0:300,1400:]=0 #remove top_right corner\n",
    "    output = cv2.connectedComponentsWithStats(img, connectivity, cv2.CV_32S)\n",
    "    num_labels = output[0]\n",
    "    labels = output[1]\n",
    "    stats = output[2]\n",
    "    centroids = output[3]\n",
    "    count=0\n",
    "    blobs=[]\n",
    "    for label in range(1,num_labels):\n",
    "        width = stats[label, cv2.CC_STAT_WIDTH]\n",
    "        height = stats[label, cv2.CC_STAT_HEIGHT]\n",
    "        x = stats[label, cv2.CC_STAT_LEFT]\n",
    "        y = stats[label, cv2.CC_STAT_TOP]\n",
    "        if width>=threshold and height>=threshold: #can instead use the number of white pixels.\n",
    "            #roi = img[y:int(y+height), x:int(x+width)]\n",
    "            #cv2.imwrite('blob_'+str(label)+'.jpg', roi)\n",
    "            count+=1\n",
    "            blobs.append([x, y, width, height])\n",
    "    return count, blobs"
   ]
  },
  {
   "cell_type": "markdown",
   "metadata": {},
   "source": [
    "The following function delivers the output where are printed how many motos are on each picture."
   ]
  },
  {
   "cell_type": "code",
   "execution_count": 59,
   "metadata": {},
   "outputs": [],
   "source": [
    "colors={0:'red',1:'green',2:'blue'} #dictionnary to store the corresponding colors\n",
    "\n",
    "def is_there_motos():\n",
    "    for i in range(30,192):\n",
    "        if i<100:\n",
    "            img_name=\"00\"+str(i)\n",
    "        else:\n",
    "            img_name=\"0\"+str(i)\n",
    "        count, blobs = blob_count('Foreground\\\\fg_post_'+img_name+'.jpg')\n",
    "        if count==0:\n",
    "            print('There isn\\'t any moto in the picture {}.'.format(img_name))\n",
    "        elif count==1:\n",
    "            print('There is one moto in the picture {}.'.format(img_name))\n",
    "            \n",
    "            img = cv2.imread(img_name+'.jpg')\n",
    "            fg= cv2.imread('Foreground\\\\fg_post_'+img_name+'.jpg',0)\n",
    "            fg_color=cv2.bitwise_and(img,img,mask = fg)\n",
    "            \n",
    "            for blob in blobs:\n",
    "                x,y,width,height=blob\n",
    "                img_blob=fg_color[y:int(y+height), x:int(x+width)]\n",
    "                most_present_color=find_color(img_blob)\n",
    "                most_present_color=most_present_color.index(max(most_present_color)) #index of the most dominant color\n",
    "                \n",
    "            print('The moto is {}.'.format(colors[most_present_color]))\n",
    "            \n",
    "        else:\n",
    "            print('There are {} motos in the picture {}.'.format(count, img_name))\n",
    "            \n",
    "            img = cv2.imread(img_name+'.jpg')\n",
    "            fg= cv2.imread('Foreground\\\\fg_post_'+img_name+'.jpg',0)\n",
    "            fg_color=cv2.bitwise_and(img,img,mask = fg)\n",
    "            \n",
    "            colors_ranking=[]\n",
    "            \n",
    "            for blob in blobs:\n",
    "                x,y,width,height=blob\n",
    "                img_blob=fg_color[y:int(y+height), x:int(x+width)]\n",
    "                most_present_color=find_color(img_blob)\n",
    "                most_present_color=most_present_color.index(max(most_present_color)) #find the most dominant color for each blob\n",
    "                colors_ranking.append([width*height,most_present_color]) #also store the area of the blob\n",
    "            \n",
    "            colors_ranking=sorted(colors_ranking, key=lambda x:x[0],reverse=True) #reverse it to start with largest blob\n",
    "            for i in range(len(colors_ranking)):\n",
    "                print('The moto in position {} is {}.'.format(i+1, colors[colors_ranking[i][1]])) \n",
    "            \n",
    "            \n",
    "            \n",
    "    "
   ]
  },
  {
   "cell_type": "markdown",
   "metadata": {},
   "source": [
    "## Color"
   ]
  },
  {
   "cell_type": "code",
   "execution_count": 53,
   "metadata": {},
   "outputs": [],
   "source": [
    "def find_color(img):\n",
    "    height, width = len(img), len(img[0])\n",
    "    \n",
    "    red = 0\n",
    "    green = 0\n",
    "    blue = 0\n",
    "    count = 0\n",
    "    \n",
    "    for i in range(width):\n",
    "        for j in range(height):\n",
    "            colors=img[j][i]\n",
    "            \n",
    "            pix_red=colors[0]\n",
    "            pix_green=colors[1]\n",
    "            pix_blue=colors[2]\n",
    "            \n",
    "            if pix_red!=0 or pix_green!=0 or pix_blue !=0:\n",
    "                red += pix_red\n",
    "                green += pix_green\n",
    "                blue += pix_blue\n",
    "                count+=1\n",
    "                \n",
    "    return [red/count,green/count,blue/count]         "
   ]
  },
  {
   "cell_type": "code",
   "execution_count": 54,
   "metadata": {},
   "outputs": [],
   "source": [
    "def find_color2(img_name):\n",
    "    image = cv2.imread(img_name+'.jpg')\n",
    "    image = cv2.cvtColor(image, cv2.COLOR_BGR2RGB)\n",
    "\n",
    "    # reshape the image to be a list of pixels\n",
    "    image = image.reshape((image.shape[0] * image.shape[1], 3))\n",
    "\n",
    "    # cluster the pixel intensities\n",
    "    clt = KMeans(n_clusters = 4)\n",
    "    clt.fit(image)\n",
    "\n",
    "    return clt.cluster_centers_\n",
    "    "
   ]
  },
  {
   "cell_type": "markdown",
   "metadata": {},
   "source": [
    "## Execution"
   ]
  },
  {
   "cell_type": "code",
   "execution_count": 7,
   "metadata": {},
   "outputs": [],
   "source": [
    "fg_extraction()"
   ]
  },
  {
   "cell_type": "code",
   "execution_count": 60,
   "metadata": {},
   "outputs": [
    {
     "name": "stdout",
     "output_type": "stream",
     "text": [
      "There isn't any moto in the picture 0030.\n",
      "There isn't any moto in the picture 0031.\n",
      "There isn't any moto in the picture 0032.\n",
      "There isn't any moto in the picture 0033.\n",
      "There isn't any moto in the picture 0034.\n",
      "There isn't any moto in the picture 0035.\n",
      "There isn't any moto in the picture 0036.\n",
      "There is one moto in the picture 0037.\n",
      "The moto is red.\n",
      "There is one moto in the picture 0038.\n",
      "The moto is red.\n",
      "There is one moto in the picture 0039.\n",
      "The moto is red.\n",
      "There is one moto in the picture 0040.\n",
      "The moto is red.\n",
      "There is one moto in the picture 0041.\n",
      "The moto is red.\n",
      "There is one moto in the picture 0042.\n",
      "The moto is red.\n",
      "There is one moto in the picture 0043.\n",
      "The moto is red.\n",
      "There is one moto in the picture 0044.\n",
      "The moto is red.\n",
      "There is one moto in the picture 0045.\n",
      "The moto is red.\n",
      "There is one moto in the picture 0046.\n",
      "The moto is red.\n",
      "There is one moto in the picture 0047.\n",
      "The moto is red.\n",
      "There is one moto in the picture 0048.\n",
      "The moto is red.\n",
      "There is one moto in the picture 0049.\n",
      "The moto is red.\n",
      "There is one moto in the picture 0050.\n",
      "The moto is green.\n",
      "There is one moto in the picture 0051.\n",
      "The moto is green.\n",
      "There is one moto in the picture 0052.\n",
      "The moto is red.\n",
      "There is one moto in the picture 0053.\n",
      "The moto is green.\n",
      "There is one moto in the picture 0054.\n",
      "The moto is red.\n",
      "There is one moto in the picture 0055.\n",
      "The moto is red.\n",
      "There is one moto in the picture 0056.\n",
      "The moto is red.\n",
      "There is one moto in the picture 0057.\n",
      "The moto is red.\n",
      "There is one moto in the picture 0058.\n",
      "The moto is red.\n",
      "There is one moto in the picture 0059.\n",
      "The moto is red.\n",
      "There is one moto in the picture 0060.\n",
      "The moto is red.\n",
      "There is one moto in the picture 0061.\n",
      "The moto is red.\n",
      "There is one moto in the picture 0062.\n",
      "The moto is red.\n",
      "There is one moto in the picture 0063.\n",
      "The moto is red.\n",
      "There is one moto in the picture 0064.\n",
      "The moto is red.\n",
      "There is one moto in the picture 0065.\n",
      "The moto is red.\n",
      "There is one moto in the picture 0066.\n",
      "The moto is red.\n",
      "There is one moto in the picture 0067.\n",
      "The moto is red.\n",
      "There is one moto in the picture 0068.\n",
      "The moto is red.\n",
      "There is one moto in the picture 0069.\n",
      "The moto is red.\n",
      "There is one moto in the picture 0070.\n",
      "The moto is red.\n",
      "There is one moto in the picture 0071.\n",
      "The moto is red.\n",
      "There is one moto in the picture 0072.\n",
      "The moto is red.\n",
      "There is one moto in the picture 0073.\n",
      "The moto is red.\n",
      "There is one moto in the picture 0074.\n",
      "The moto is red.\n",
      "There is one moto in the picture 0075.\n",
      "The moto is red.\n",
      "There is one moto in the picture 0076.\n",
      "The moto is red.\n",
      "There is one moto in the picture 0077.\n",
      "The moto is red.\n",
      "There is one moto in the picture 0078.\n",
      "The moto is red.\n",
      "There is one moto in the picture 0079.\n",
      "The moto is red.\n",
      "There is one moto in the picture 0080.\n",
      "The moto is red.\n",
      "There is one moto in the picture 0081.\n",
      "The moto is red.\n",
      "There is one moto in the picture 0082.\n",
      "The moto is red.\n",
      "There is one moto in the picture 0083.\n",
      "The moto is red.\n",
      "There is one moto in the picture 0084.\n",
      "The moto is red.\n",
      "There is one moto in the picture 0085.\n",
      "The moto is red.\n",
      "There is one moto in the picture 0086.\n",
      "The moto is red.\n",
      "There is one moto in the picture 0087.\n",
      "The moto is red.\n",
      "There is one moto in the picture 0088.\n",
      "The moto is red.\n",
      "There is one moto in the picture 0089.\n",
      "The moto is red.\n",
      "There is one moto in the picture 0090.\n",
      "The moto is red.\n",
      "There is one moto in the picture 0091.\n",
      "The moto is red.\n",
      "There is one moto in the picture 0092.\n",
      "The moto is red.\n",
      "There is one moto in the picture 0093.\n",
      "The moto is red.\n",
      "There is one moto in the picture 0094.\n",
      "The moto is red.\n",
      "There is one moto in the picture 0095.\n",
      "The moto is red.\n",
      "There is one moto in the picture 0096.\n",
      "The moto is red.\n",
      "There is one moto in the picture 0097.\n",
      "The moto is red.\n",
      "There is one moto in the picture 0098.\n",
      "The moto is red.\n",
      "There is one moto in the picture 0099.\n",
      "The moto is red.\n",
      "There is one moto in the picture 0100.\n",
      "The moto is red.\n",
      "There is one moto in the picture 0101.\n",
      "The moto is red.\n",
      "There is one moto in the picture 0102.\n",
      "The moto is red.\n",
      "There is one moto in the picture 0103.\n",
      "The moto is red.\n",
      "There is one moto in the picture 0104.\n",
      "The moto is red.\n",
      "There is one moto in the picture 0105.\n",
      "The moto is red.\n",
      "There is one moto in the picture 0106.\n",
      "The moto is red.\n",
      "There is one moto in the picture 0107.\n",
      "The moto is red.\n",
      "There is one moto in the picture 0108.\n",
      "The moto is red.\n",
      "There is one moto in the picture 0109.\n",
      "The moto is red.\n",
      "There is one moto in the picture 0110.\n",
      "The moto is red.\n",
      "There is one moto in the picture 0111.\n",
      "The moto is red.\n",
      "There is one moto in the picture 0112.\n",
      "The moto is red.\n",
      "There is one moto in the picture 0113.\n",
      "The moto is red.\n",
      "There are 2 motos in the picture 0114.\n",
      "The moto in position 1 is red.\n",
      "The moto in position 2 is green.\n",
      "There are 2 motos in the picture 0115.\n",
      "The moto in position 1 is red.\n",
      "The moto in position 2 is green.\n",
      "There are 2 motos in the picture 0116.\n",
      "The moto in position 1 is blue.\n",
      "The moto in position 2 is green.\n",
      "There is one moto in the picture 0117.\n",
      "The moto is green.\n",
      "There is one moto in the picture 0118.\n",
      "The moto is green.\n",
      "There is one moto in the picture 0119.\n",
      "The moto is green.\n",
      "There is one moto in the picture 0120.\n",
      "The moto is green.\n",
      "There is one moto in the picture 0121.\n",
      "The moto is green.\n",
      "There is one moto in the picture 0122.\n",
      "The moto is green.\n",
      "There is one moto in the picture 0123.\n",
      "The moto is green.\n",
      "There is one moto in the picture 0124.\n",
      "The moto is green.\n",
      "There is one moto in the picture 0125.\n",
      "The moto is green.\n",
      "There is one moto in the picture 0126.\n",
      "The moto is green.\n",
      "There is one moto in the picture 0127.\n",
      "The moto is green.\n",
      "There is one moto in the picture 0128.\n",
      "The moto is green.\n",
      "There is one moto in the picture 0129.\n",
      "The moto is green.\n",
      "There is one moto in the picture 0130.\n",
      "The moto is green.\n",
      "There is one moto in the picture 0131.\n",
      "The moto is green.\n",
      "There is one moto in the picture 0132.\n",
      "The moto is green.\n",
      "There is one moto in the picture 0133.\n",
      "The moto is green.\n",
      "There is one moto in the picture 0134.\n",
      "The moto is green.\n",
      "There is one moto in the picture 0135.\n",
      "The moto is green.\n",
      "There is one moto in the picture 0136.\n",
      "The moto is green.\n",
      "There is one moto in the picture 0137.\n",
      "The moto is green.\n",
      "There is one moto in the picture 0138.\n",
      "The moto is green.\n",
      "There is one moto in the picture 0139.\n",
      "The moto is green.\n",
      "There is one moto in the picture 0140.\n",
      "The moto is green.\n",
      "There is one moto in the picture 0141.\n",
      "The moto is green.\n",
      "There is one moto in the picture 0142.\n",
      "The moto is green.\n",
      "There is one moto in the picture 0143.\n",
      "The moto is green.\n",
      "There is one moto in the picture 0144.\n",
      "The moto is green.\n",
      "There is one moto in the picture 0145.\n",
      "The moto is green.\n",
      "There is one moto in the picture 0146.\n",
      "The moto is green.\n",
      "There is one moto in the picture 0147.\n",
      "The moto is green.\n",
      "There is one moto in the picture 0148.\n",
      "The moto is green.\n",
      "There is one moto in the picture 0149.\n",
      "The moto is green.\n",
      "There is one moto in the picture 0150.\n",
      "The moto is green.\n",
      "There is one moto in the picture 0151.\n",
      "The moto is green.\n",
      "There is one moto in the picture 0152.\n",
      "The moto is green.\n",
      "There is one moto in the picture 0153.\n",
      "The moto is green.\n",
      "There is one moto in the picture 0154.\n",
      "The moto is green.\n",
      "There is one moto in the picture 0155.\n",
      "The moto is green.\n",
      "There is one moto in the picture 0156.\n",
      "The moto is green.\n",
      "There is one moto in the picture 0157.\n",
      "The moto is green.\n",
      "There is one moto in the picture 0158.\n",
      "The moto is green.\n",
      "There is one moto in the picture 0159.\n",
      "The moto is green.\n",
      "There is one moto in the picture 0160.\n",
      "The moto is green.\n",
      "There is one moto in the picture 0161.\n",
      "The moto is green.\n",
      "There is one moto in the picture 0162.\n",
      "The moto is green.\n",
      "There is one moto in the picture 0163.\n",
      "The moto is green.\n",
      "There is one moto in the picture 0164.\n",
      "The moto is green.\n",
      "There is one moto in the picture 0165.\n",
      "The moto is green.\n",
      "There is one moto in the picture 0166.\n",
      "The moto is green.\n",
      "There is one moto in the picture 0167.\n",
      "The moto is green.\n",
      "There is one moto in the picture 0168.\n",
      "The moto is green.\n",
      "There is one moto in the picture 0169.\n",
      "The moto is green.\n",
      "There is one moto in the picture 0170.\n",
      "The moto is green.\n",
      "There is one moto in the picture 0171.\n",
      "The moto is green.\n",
      "There is one moto in the picture 0172.\n",
      "The moto is green.\n",
      "There is one moto in the picture 0173.\n"
     ]
    },
    {
     "name": "stdout",
     "output_type": "stream",
     "text": [
      "The moto is green.\n",
      "There is one moto in the picture 0174.\n",
      "The moto is green.\n",
      "There is one moto in the picture 0175.\n",
      "The moto is green.\n",
      "There is one moto in the picture 0176.\n",
      "The moto is green.\n",
      "There is one moto in the picture 0177.\n",
      "The moto is green.\n",
      "There is one moto in the picture 0178.\n",
      "The moto is green.\n",
      "There is one moto in the picture 0179.\n",
      "The moto is green.\n",
      "There is one moto in the picture 0180.\n",
      "The moto is green.\n",
      "There is one moto in the picture 0181.\n",
      "The moto is green.\n",
      "There is one moto in the picture 0182.\n",
      "The moto is green.\n",
      "There is one moto in the picture 0183.\n",
      "The moto is green.\n",
      "There is one moto in the picture 0184.\n",
      "The moto is green.\n",
      "There is one moto in the picture 0185.\n",
      "The moto is green.\n",
      "There is one moto in the picture 0186.\n",
      "The moto is green.\n",
      "There is one moto in the picture 0187.\n",
      "The moto is green.\n",
      "There is one moto in the picture 0188.\n",
      "The moto is green.\n",
      "There is one moto in the picture 0189.\n",
      "The moto is green.\n",
      "There is one moto in the picture 0190.\n",
      "The moto is green.\n",
      "There is one moto in the picture 0191.\n",
      "The moto is green.\n"
     ]
    }
   ],
   "source": [
    "is_there_motos()"
   ]
  },
  {
   "cell_type": "markdown",
   "metadata": {},
   "source": [
    "## Test area"
   ]
  },
  {
   "cell_type": "code",
   "execution_count": 38,
   "metadata": {},
   "outputs": [
    {
     "name": "stdout",
     "output_type": "stream",
     "text": [
      "1080\n",
      "1920\n"
     ]
    },
    {
     "data": {
      "text/plain": [
       "True"
      ]
     },
     "execution_count": 38,
     "metadata": {},
     "output_type": "execute_result"
    }
   ],
   "source": [
    "img_name='0114'\n",
    "img = cv2.imread(img_name+'.jpg')\n",
    "print(len(img))\n",
    "print(len(img[0]))\n",
    "tr_corner=img[0:300,1400:]\n",
    "img[0:300,1400:]=0\n",
    "cv2.imwrite('test.jpg',img)\n",
    "    \n",
    "    "
   ]
  },
  {
   "cell_type": "code",
   "execution_count": 42,
   "metadata": {
    "scrolled": true
   },
   "outputs": [
    {
     "name": "stdout",
     "output_type": "stream",
     "text": [
      "[81.2862878695705, 80.78389098430466, 79.821073123251]\n"
     ]
    },
    {
     "data": {
      "text/plain": [
       "True"
      ]
     },
     "execution_count": 42,
     "metadata": {},
     "output_type": "execute_result"
    }
   ],
   "source": [
    "img_name='0114'\n",
    "img = cv2.imread(img_name+'.jpg')\n",
    "fg= cv2.imread('Foreground\\\\fg_post_'+img_name+'.jpg',0)\n",
    "print(find_color(cv2.bitwise_and(img,img,mask = fg)))\n",
    "cv2.imwrite('test.jpg', cv2.bitwise_and(img,img,mask = fg))"
   ]
  },
  {
   "cell_type": "code",
   "execution_count": 61,
   "metadata": {},
   "outputs": [
    {
     "data": {
      "text/plain": [
       "KMeans(algorithm='auto', copy_x=True, init='k-means++', max_iter=300,\n",
       "    n_clusters=4, n_init=10, n_jobs=1, precompute_distances='auto',\n",
       "    random_state=None, tol=0.0001, verbose=0)"
      ]
     },
     "execution_count": 61,
     "metadata": {},
     "output_type": "execute_result"
    },
    {
     "data": {
      "image/png": "[encoded data removed]",
      "text/plain": [
       "<Figure size 432x288 with 1 Axes>"
      ]
     },
     "metadata": {},
     "output_type": "display_data"
    }
   ],
   "source": [
    "\n",
    "\n",
    "img_name='test'\n",
    "image = cv2.imread(img_name+'.jpg')\n",
    "image = cv2.cvtColor(image, cv2.COLOR_BGR2RGB)\n",
    "\n",
    "plt.figure()\n",
    "plt.axis(\"off\")\n",
    "plt.imshow(image)\n",
    "\n",
    "image = image.reshape((image.shape[0] * image.shape[1], 3))\n",
    "\n",
    "clt = KMeans(n_clusters = 4)\n",
    "clt.fit(image)\n"
   ]
  },
  {
   "cell_type": "code",
   "execution_count": 62,
   "metadata": {},
   "outputs": [
    {
     "name": "stdout",
     "output_type": "stream",
     "text": [
      "[[6.27483238e-02 9.10392291e-02 8.97468432e-02]\n",
      " [1.20868755e+02 1.22656873e+02 1.22989749e+02]\n",
      " [1.93740874e+02 1.95246272e+02 1.97483805e+02]\n",
      " [5.69811590e+01 5.32693523e+01 5.45988844e+01]]\n"
     ]
    }
   ],
   "source": [
    "print(clt.cluster_centers_)"
   ]
  },
  {
   "cell_type": "code",
   "execution_count": null,
   "metadata": {},
   "outputs": [],
   "source": []
  }
 ],
 "metadata": {
  "kernelspec": {
   "display_name": "Python 3",
   "language": "python",
   "name": "python3"
  },
  "language_info": {
   "codemirror_mode": {
    "name": "ipython",
    "version": 3
   },
   "file_extension": ".py",
   "mimetype": "text/x-python",
   "name": "python",
   "nbconvert_exporter": "python",
   "pygments_lexer": "ipython3",
   "version": "3.6.5"
  }
 },
 "nbformat": 4,
 "nbformat_minor": 2
}
